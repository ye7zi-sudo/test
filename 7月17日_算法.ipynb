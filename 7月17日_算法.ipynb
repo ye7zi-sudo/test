{
 "cells": [
  {
   "cell_type": "markdown",
   "metadata": {},
   "source": [
    "## 基本算法1\n",
    "### 编写一个程序，要求用户输入10个整数，然后输出其中最大的奇数。如果用户没有输入奇数，则输出一个消息进行说明"
   ]
  },
  {
   "cell_type": "code",
   "execution_count": null,
   "metadata": {},
   "outputs": [],
   "source": [
    "## 循环从控制台输入程序\n",
    "num_list=[]                           #先定义一个列表（序列的一种，序列包括列表/元祖/字典）\n",
    "for i in range(10):                   #for语句做循环，in关键字和range范围，循环10次\n",
    "    num=int(input(\"第\"+str(i+1) + \"个数\"))  #这里必须把i转为字符串类型，因为默认的i是int型\n",
    "    num_list.append(num)   #这里用append函数将用户输入的num添加到列表中\n",
    " \n",
    "odd=[]\n",
    "for numb in num_list:\n",
    "    if numb % 2==1:\n",
    "        odd.append(numb)  #遍历原列表，将其中的奇数添加到odd列表中\n",
    " \n",
    "if odd:  #如果odd不为空\n",
    "    print (sorted(odd)[-1]) #升序排列后直接取最后一位数即为最大值\n",
    "else:\n",
    "    print(\"没有奇数\")\n"
   ]
  },
  {
   "cell_type": "markdown",
   "metadata": {},
   "source": [
    "## 基本算法2\n",
    "### 穷举法找完全立方数"
   ]
  },
  {
   "cell_type": "code",
   "execution_count": 39,
   "metadata": {},
   "outputs": [
    {
     "name": "stdout",
     "output_type": "stream",
     "text": [
      "Enter an integer: 125\n",
      "Cube root of 125 is 5\n"
     ]
    }
   ],
   "source": [
    "x = int(input('Enter an integer: '))\n",
    "ans = 0\n",
    "while ans**3 < abs(x):    #先找出接近的一个数\n",
    "    ans += 1\n",
    "if ans**3 != abs(x):    #看看有多么的接近，是否相等\n",
    "    print(x, 'is not a perfect cube')\n",
    "else:\n",
    "    if x < 0:\n",
    "        ans = -ans\n",
    "    print('Cube root of', x, 'is', ans)"
   ]
  },
  {
   "cell_type": "markdown",
   "metadata": {},
   "source": [
    "### 穷举法找n次方根"
   ]
  },
  {
   "cell_type": "code",
   "execution_count": null,
   "metadata": {},
   "outputs": [],
   "source": [
    "y=int(input('输入需要判断的数字：'))\n",
    "root = 0\n",
    "for pwr in range(1,6):#通过for循环遍历几次方\n",
    "    while root**pwr < abs(y):#使用穷举法寻找方根\n",
    "        root =root + 1\n",
    "    if root**pwr != abs(y):\n",
    "        print('输入数',y,'没有',pwr,'次方根数')\n",
    "    else:\n",
    "        if y < 0:\n",
    "           root = -root\n",
    "        print('输入数',y,'的',pwr,'次方根是',root)\n",
    "    root = 0#每一个for结束以后都要进行root=0"
   ]
  },
  {
   "cell_type": "code",
   "execution_count": 46,
   "metadata": {},
   "outputs": [
    {
     "data": {
      "text/plain": [
       "['1.22', ' 2.33', ' 4.44']"
      ]
     },
     "execution_count": 46,
     "metadata": {},
     "output_type": "execute_result"
    }
   ],
   "source": [
    "s = '1.22, 2.33, 4.44'\n",
    "list = s.split(\",\")\n",
    "list"
   ]
  },
  {
   "cell_type": "code",
   "execution_count": 49,
   "metadata": {},
   "outputs": [
    {
     "data": {
      "text/plain": [
       "True"
      ]
     },
     "execution_count": 49,
     "metadata": {},
     "output_type": "execute_result"
    }
   ],
   "source": [
    "import math\n",
    "x = 1\n",
    "y = math.sqrt\n",
    "callable(y) #来判断某个对象是否可调用，返回true和false"
   ]
  },
  {
   "cell_type": "code",
   "execution_count": 51,
   "metadata": {},
   "outputs": [
    {
     "name": "stdout",
     "output_type": "stream",
     "text": [
      "Help on function square in module __main__:\n",
      "\n",
      "square(x)\n",
      "    Calculates the square of the number x\n",
      "\n"
     ]
    }
   ],
   "source": [
    "def square(x):\n",
    "    'Calculates the square of the number x'  #放在函数开头的字符串称为文档字符串docstring，将作为函数的一部分存储起来。\n",
    "    return x*x\n",
    "square.__doc__  #__doc__是函数的一个属性，可以查看doc内容\n",
    "help(square)  #其中，help内置函数可以获得函数的信息，包括docstring内容"
   ]
  },
  {
   "cell_type": "code",
   "execution_count": 57,
   "metadata": {},
   "outputs": [
    {
     "name": "stdout",
     "output_type": "stream",
     "text": [
      "this is printed\n"
     ]
    }
   ],
   "source": [
    "def test():\n",
    "    print('this is printed')\n",
    "    return\n",
    "    print('ssss')\n",
    "x = test()\n",
    "x"
   ]
  },
  {
   "cell_type": "code",
   "execution_count": 59,
   "metadata": {},
   "outputs": [
    {
     "data": {
      "text/plain": [
       "'1'"
      ]
     },
     "execution_count": 59,
     "metadata": {},
     "output_type": "execute_result"
    }
   ],
   "source": [
    "name = '1'\n",
    "n = name\n",
    "n"
   ]
  },
  {
   "cell_type": "code",
   "execution_count": 69,
   "metadata": {},
   "outputs": [
    {
     "data": {
      "text/plain": [
       "0.7999999999999999"
      ]
     },
     "execution_count": 69,
     "metadata": {},
     "output_type": "execute_result"
    }
   ],
   "source": [
    "x = 0.0\n",
    "for i in range(0, 8):\n",
    "    x += 0.1\n",
    "x"
   ]
  },
  {
   "cell_type": "code",
   "execution_count": null,
   "metadata": {},
   "outputs": [],
   "source": []
  }
 ],
 "metadata": {
  "kernelspec": {
   "display_name": "Python 3",
   "language": "python",
   "name": "python3"
  },
  "language_info": {
   "codemirror_mode": {
    "name": "ipython",
    "version": 3
   },
   "file_extension": ".py",
   "mimetype": "text/x-python",
   "name": "python",
   "nbconvert_exporter": "python",
   "pygments_lexer": "ipython3",
   "version": "3.6.9"
  }
 },
 "nbformat": 4,
 "nbformat_minor": 2
}
